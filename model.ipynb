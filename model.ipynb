{
 "cells": [
  {
   "cell_type": "code",
   "execution_count": 1,
   "metadata": {},
   "outputs": [],
   "source": [
    "import psycopg2\n",
    "import pandas as pd\n",
    "from sklearn.preprocessing import LabelEncoder, StandardScaler\n",
    "from sklearn.preprocessing import OneHotEncoder, StandardScaler\n",
    "from sklearn.compose import ColumnTransformer"
   ]
  },
  {
   "cell_type": "code",
   "execution_count": 4,
   "metadata": {},
   "outputs": [],
   "source": [
    "import torch\n",
    "import torch.nn as nn\n",
    "import torch.optim as optim\n",
    "from sklearn.model_selection import train_test_split"
   ]
  },
  {
   "cell_type": "code",
   "execution_count": 5,
   "metadata": {},
   "outputs": [
    {
     "name": "stderr",
     "output_type": "stream",
     "text": [
      "<positron-console-cell-5>:12: UserWarning: pandas only supports SQLAlchemy connectable (engine/connection) or database string URI or sqlite3 DBAPI2 connection. Other DBAPI2 objects are not tested. Please consider using SQLAlchemy.\n"
     ]
    }
   ],
   "source": [
    "# Connect to PostgreSQL and load the data\n",
    "conn = psycopg2.connect(\n",
    "    host = \"localhost\", \n",
    "    dbname = \"mnrj\", \n",
    "    user= \"postgres\", \n",
    "    password = \"gwdb\", \n",
    "    port = 5600\n",
    ")\n",
    "\n",
    "# Query the table and load it into a DataFrame\n",
    "query = \"SELECT * FROM nba;\"\n",
    "data = pd.read_sql(query, conn)\n",
    "conn.close()"
   ]
  },
  {
   "cell_type": "code",
   "execution_count": 7,
   "metadata": {},
   "outputs": [],
   "source": [
    "from transformers import AutoModel, AutoTokenizer"
   ]
  },
  {
   "cell_type": "code",
   "execution_count": 8,
   "metadata": {},
   "outputs": [
    {
     "name": "stdout",
     "output_type": "stream",
     "text": [
      "['id', 'player', 'date', 'age', 'team', 'hoa', 'opp', 'gs', 'mp', 'fg', 'fga', 'fg_percent', 'twop', 'twop_percent', 'threep', 'ft', 'ft_percent', 'ts_percent', 'orb', 'drb', 'trb', 'ast', 'stl', 'blk', 'tov', 'pf', 'pts', 'gmsc', 'bpm', 'plus_minus', 'pos', 'player_additional', 'result', 'total_score', 'p_r_a', 'p_r', 'p_a', 'a_r', 'month', 'days_since', 'teammates_rebounds', 'teammates_assists', 'teammates_pr', 'teammates_pa', 'teammates_ar', 'teammates_pra', 'opponents_rebounds', 'opponents_assists', 'opponents_pr', 'opponents_pa', 'opponents_ar', 'opponents_pra']\n"
     ]
    }
   ],
   "source": [
    "target_columns = ['pts', 'trb', 'ast', 'p_r_a', 'p_r', 'p_a', 'a_r']\n",
    "print( [col for col in data.columns ])"
   ]
  },
  {
   "cell_type": "code",
   "execution_count": 9,
   "metadata": {},
   "outputs": [
    {
     "name": "stdout",
     "output_type": "stream",
     "text": [
      "<bound method NDFrame.head of          id        player  ...                                       opponents_ar                                      opponents_pra\n",
      "0      6230  Rayan Rupert  ...  [{'ar': 15, 'player': 'Stephen Curry'}, {'ar':...  [{'pra': 37, 'player': 'Stephen Curry'}, {'pra...\n",
      "1      6231  Rayan Rupert  ...  [{'ar': 21, 'player': 'Amen Thompson'}, {'ar':...  [{'pra': 38, 'player': 'Amen Thompson'}, {'pra...\n",
      "2      6232  Rayan Rupert  ...  [{'ar': 8, 'player': 'Harrison Barnes'}, {'ar'...  [{'pra': 25, 'player': 'Harrison Barnes'}, {'p...\n",
      "3      6233  Terry Rozier  ...  [{'ar': 10, 'player': 'Trae Young'}, {'ar': 8,...  [{'pra': 33, 'player': 'Trae Young'}, {'pra': ...\n",
      "4      6234  Terry Rozier  ...  [{'ar': 8, 'player': 'Isaiah Stewart'}, {'ar':...  [{'pra': 23, 'player': 'Isaiah Stewart'}, {'pr...\n",
      "...     ...           ...  ...                                                ...                                                ...\n",
      "30596  6225  Rayan Rupert  ...  [{'ar': 8, 'player': 'Paolo Banchero'}, {'ar':...  [{'pra': 23, 'player': 'Paolo Banchero'}, {'pr...\n",
      "30597  6226  Rayan Rupert  ...  [{'ar': 5, 'player': 'Tre Mann'}, {'ar': 18, '...  [{'pra': 16, 'player': 'Tre Mann'}, {'pra': 23...\n",
      "30598  6227  Rayan Rupert  ...  [{'ar': 8, 'player': 'Corey Kispert'}, {'ar': ...  [{'pra': 20, 'player': 'Corey Kispert'}, {'pra...\n",
      "30599  6228  Rayan Rupert  ...  [{'ar': 10, 'player': 'Derrick White'}, {'ar':...  [{'pra': 25, 'player': 'Derrick White'}, {'pra...\n",
      "30600  6229  Rayan Rupert  ...  [{'ar': 11, 'player': 'Trey Murphy III'}, {'ar...  [{'pra': 42, 'player': 'Trey Murphy III'}, {'p...\n",
      "\n",
      "[30601 rows x 52 columns]>\n"
     ]
    }
   ],
   "source": [
    "print(data.head)"
   ]
  }
 ],
 "metadata": {
  "kernelspec": {
   "display_name": ".venv",
   "language": "python",
   "name": "python3"
  },
  "language_info": {
   "codemirror_mode": {
    "name": "ipython",
    "version": 3
   },
   "file_extension": ".py",
   "mimetype": "text/x-python",
   "name": "python",
   "nbconvert_exporter": "python",
   "pygments_lexer": "ipython3",
   "version": "3.12.7"
  }
 },
 "nbformat": 4,
 "nbformat_minor": 2
}

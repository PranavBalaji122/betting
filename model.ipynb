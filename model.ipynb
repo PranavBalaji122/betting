{
 "cells": [
  {
   "cell_type": "code",
   "execution_count": 2,
   "metadata": {},
   "outputs": [],
   "source": [
    "import psycopg2\n",
    "import pandas as pd\n",
    "from sklearn.preprocessing import LabelEncoder, StandardScaler\n",
    "from sklearn.preprocessing import OneHotEncoder, StandardScaler\n",
    "from sklearn.compose import ColumnTransformer"
   ]
  },
  {
   "cell_type": "code",
   "execution_count": 3,
   "metadata": {},
   "outputs": [],
   "source": [
    "import torch\n",
    "import torch.nn as nn\n",
    "import torch.optim as optim\n",
    "from sklearn.model_selection import train_test_split"
   ]
  },
  {
   "cell_type": "code",
   "execution_count": 4,
   "metadata": {},
   "outputs": [
    {
     "name": "stderr",
     "output_type": "stream",
     "text": [
      "<positron-console-cell-4>:12: UserWarning: pandas only supports SQLAlchemy connectable (engine/connection) or database string URI or sqlite3 DBAPI2 connection. Other DBAPI2 objects are not tested. Please consider using SQLAlchemy.\n"
     ]
    }
   ],
   "source": [
    "# Connect to PostgreSQL and load the data\n",
    "conn = psycopg2.connect(\n",
    "    host = \"localhost\", \n",
    "    dbname = \"mnrj\", \n",
    "    user= \"postgres\", \n",
    "    password = \"gwdb\", \n",
    "    port = 5600\n",
    ")\n",
    "\n",
    "# Query the table and load it into a DataFrame\n",
    "query = \"SELECT * FROM nba;\"\n",
    "data = pd.read_sql(query, conn)\n",
    "conn.close()"
   ]
  },
  {
   "cell_type": "code",
   "execution_count": 5,
   "metadata": {},
   "outputs": [],
   "source": [
    "from transformers import AutoModel, AutoTokenizer"
   ]
  },
  {
   "cell_type": "code",
   "execution_count": 6,
   "metadata": {},
   "outputs": [
    {
     "name": "stdout",
     "output_type": "stream",
     "text": [
      "['rk', 'player', 'date', 'age', 'team', 'hoa', 'opp', 'gs', 'mp', 'fg', 'fga', 'fg_percent', 'twop', 'twop_percent', 'threep', 'ft', 'ft_percent', 'ts_percent', 'orb', 'drb', 'trb', 'ast', 'stl', 'blk', 'tov', 'pf', 'pts', 'gmsc', 'bpm', 'plus_minus', 'pos', 'player_additional', 'result', 'total_score', 'p_r_a', 'p_r', 'p_a', 'a_r', 'time']\n",
      "['rk', 'player', 'date', 'age', 'team', 'hoa', 'opp', 'gs', 'mp', 'fg', 'fga', 'fg_percent', 'twop', 'twop_percent', 'threep', 'ft', 'ft_percent', 'ts_percent', 'orb', 'drb', 'trb', 'ast', 'stl', 'blk', 'tov', 'pf', 'pts', 'gmsc', 'bpm', 'plus_minus', 'pos', 'player_additional', 'result', 'total_score', 'p_r_a', 'p_r', 'p_a', 'a_r', 'time']\n"
     ]
    }
   ],
   "source": [
    "target_columns = ['pts', 'trb', 'ast', 'p_r_a', 'p_r', 'p_a', 'a_r']\n",
    "print( [col for col in data.columns ])"
   ]
  },
  {
   "cell_type": "code",
   "execution_count": 7,
   "metadata": {},
   "outputs": [
    {
     "name": "stdout",
     "output_type": "stream",
     "text": [
      "<bound method NDFrame.head of           rk            player        date  age  ... p_r  p_a a_r  time\n",
      "0        116       Cody Zeller  2024-04-11   31  ...   3    4   3     4\n",
      "1        117       Cody Zeller  2024-04-14   31  ...   0    1   1     4\n",
      "2        118    Omer Yurtseven  2024-01-12   25  ...   8    4   4     1\n",
      "3          7       Ivica Zubac  2023-11-08   26  ...  20   11  11    11\n",
      "4        119    Omer Yurtseven  2024-01-15   25  ...   2    0   2     1\n",
      "...      ...               ...         ...  ...  ...  ..  ...  ..   ...\n",
      "27947  28079  Precious Achiuwa  2024-05-06   24  ...   2    1   1     5\n",
      "27948  28080  Precious Achiuwa  2024-05-08   24  ...  13    8   5     5\n",
      "27949  28081  Precious Achiuwa  2024-05-10   24  ...  11    5   6     5\n",
      "27950  28082  Precious Achiuwa  2024-05-12   24  ...  14    8   6     5\n",
      "27951  28083  Precious Achiuwa  2024-05-14   24  ...   9    6   7     5\n",
      "\n",
      "[27952 rows x 39 columns]>\n",
      "<bound method NDFrame.head of           rk            player        date  age  ... p_r  p_a a_r  time\n",
      "0        116       Cody Zeller  2024-04-11   31  ...   3    4   3     4\n",
      "1        117       Cody Zeller  2024-04-14   31  ...   0    1   1     4\n",
      "2        118    Omer Yurtseven  2024-01-12   25  ...   8    4   4     1\n",
      "3          7       Ivica Zubac  2023-11-08   26  ...  20   11  11    11\n",
      "4        119    Omer Yurtseven  2024-01-15   25  ...   2    0   2     1\n",
      "...      ...               ...         ...  ...  ...  ..  ...  ..   ...\n",
      "27947  28079  Precious Achiuwa  2024-05-06   24  ...   2    1   1     5\n",
      "27948  28080  Precious Achiuwa  2024-05-08   24  ...  13    8   5     5\n",
      "27949  28081  Precious Achiuwa  2024-05-10   24  ...  11    5   6     5\n",
      "27950  28082  Precious Achiuwa  2024-05-12   24  ...  14    8   6     5\n",
      "27951  28083  Precious Achiuwa  2024-05-14   24  ...   9    6   7     5\n",
      "\n",
      "[27952 rows x 39 columns]>\n"
     ]
    }
   ],
   "source": [
    "print(data.head)"
   ]
  }
 ],
 "metadata": {
  "kernelspec": {
   "display_name": ".venv",
   "language": "python",
   "name": "python3"
  },
  "language_info": {
   "codemirror_mode": {
    "name": "ipython",
    "version": 3
   },
   "file_extension": ".py",
   "mimetype": "text/x-python",
   "name": "python",
   "nbconvert_exporter": "python",
   "pygments_lexer": "ipython3",
   "version": "3.12.7"
  }
 },
 "nbformat": 4,
 "nbformat_minor": 2
}

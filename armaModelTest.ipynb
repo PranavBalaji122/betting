{
 "cells": [
  {
   "cell_type": "code",
   "execution_count": 90,
   "id": "54f5ed0d-1f56-4862-a596-612f8204579c",
   "metadata": {},
   "outputs": [],
   "source": [
    "from sklearn import datasets\n",
    "from sklearn.model_selection import train_test_split\n",
    "import psycopg2\n",
    "import pandas as pd\n",
    "import numpy as np\n",
    "\n",
    "import pandas as pd\n",
    "from sklearn.model_selection import train_test_split\n",
    "from sklearn.preprocessing import StandardScaler, OneHotEncoder\n",
    "from sklearn.compose import ColumnTransformer\n",
    "from sklearn.pipeline import Pipeline\n",
    "from sklearn.neighbors import KNeighborsRegressor\n",
    "from sklearn.metrics import mean_squared_error\n",
    "from sklearn.impute import SimpleImputer\n",
    "from sklearn.ensemble import RandomForestRegressor\n",
    "from statsmodels.tsa.arima.model import ARIMA\n",
    "from statsmodels.tsa.stattools import adfuller\n",
    "import matplotlib.pyplot as plt\n",
    "import matplotlib.pyplot as plt\n",
    "from statsmodels.tsa.stattools import pacf, acf\n",
    "from statsmodels.graphics.tsaplots import plot_pacf, plot_acf\n",
    "from sklearn.preprocessing import OneHotEncoder\n",
    "import statsmodels.api as sm\n",
    "from sklearn.preprocessing import OneHotEncoder\n",
    "\n"
   ]
  },
  {
   "cell_type": "code",
   "execution_count": 91,
   "id": "c80923d6-d7ab-428b-abe4-178780cb214f",
   "metadata": {},
   "outputs": [],
   "source": [
    "conn = psycopg2.connect(\n",
    "    host = \"localhost\", \n",
    "    dbname = \"mnrj\", \n",
    "    user= \"postgres\", \n",
    "    password = \"gwdb\", \n",
    "    port = 5600\n",
    ")\n"
   ]
  },
  {
   "cell_type": "code",
   "execution_count": 92,
   "id": "f3c8ad34-e188-4f1c-a0c7-3a9149ab7800",
   "metadata": {},
   "outputs": [
    {
     "name": "stderr",
     "output_type": "stream",
     "text": [
      "/var/folders/yh/dpxm34q14klby4wqd82k6qcc0000gn/T/ipykernel_60066/3769671571.py:2: UserWarning: pandas only supports SQLAlchemy connectable (engine/connection) or database string URI or sqlite3 DBAPI2 connection. Other DBAPI2 objects are not tested. Please consider using SQLAlchemy.\n",
      "  data = pd.read_sql(query, conn)\n"
     ]
    }
   ],
   "source": [
    "query = \"SELECT * FROM nba;\"\n",
    "data = pd.read_sql(query, conn)\n",
    "conn.close()"
   ]
  },
  {
   "cell_type": "code",
   "execution_count": 93,
   "id": "bb9f9d2a-08cd-45eb-8154-243d4faca9c6",
   "metadata": {},
   "outputs": [
    {
     "data": {
      "text/html": [
       "<div>\n",
       "<style scoped>\n",
       "    .dataframe tbody tr th:only-of-type {\n",
       "        vertical-align: middle;\n",
       "    }\n",
       "\n",
       "    .dataframe tbody tr th {\n",
       "        vertical-align: top;\n",
       "    }\n",
       "\n",
       "    .dataframe thead th {\n",
       "        text-align: right;\n",
       "    }\n",
       "</style>\n",
       "<table border=\"1\" class=\"dataframe\">\n",
       "  <thead>\n",
       "    <tr style=\"text-align: right;\">\n",
       "      <th></th>\n",
       "      <th>date</th>\n",
       "      <th>age</th>\n",
       "      <th>hoa</th>\n",
       "      <th>opp</th>\n",
       "      <th>gs</th>\n",
       "      <th>mp</th>\n",
       "      <th>fg</th>\n",
       "      <th>fga</th>\n",
       "      <th>fg_percent</th>\n",
       "      <th>twop</th>\n",
       "      <th>...</th>\n",
       "      <th>bpm</th>\n",
       "      <th>plus_minus</th>\n",
       "      <th>result</th>\n",
       "      <th>total_score</th>\n",
       "      <th>p_r_a</th>\n",
       "      <th>p_r</th>\n",
       "      <th>p_a</th>\n",
       "      <th>a_r</th>\n",
       "      <th>month</th>\n",
       "      <th>days_since</th>\n",
       "    </tr>\n",
       "  </thead>\n",
       "  <tbody>\n",
       "    <tr>\n",
       "      <th>1133</th>\n",
       "      <td>2024-04-21</td>\n",
       "      <td>26</td>\n",
       "      <td>0</td>\n",
       "      <td>MIA</td>\n",
       "      <td>1</td>\n",
       "      <td>41</td>\n",
       "      <td>7</td>\n",
       "      <td>18</td>\n",
       "      <td>0.389</td>\n",
       "      <td>6</td>\n",
       "      <td>...</td>\n",
       "      <td>3.1</td>\n",
       "      <td>3.0</td>\n",
       "      <td>1</td>\n",
       "      <td>208</td>\n",
       "      <td>43</td>\n",
       "      <td>33</td>\n",
       "      <td>33</td>\n",
       "      <td>20</td>\n",
       "      <td>4</td>\n",
       "      <td>180</td>\n",
       "    </tr>\n",
       "    <tr>\n",
       "      <th>1134</th>\n",
       "      <td>2024-04-24</td>\n",
       "      <td>26</td>\n",
       "      <td>0</td>\n",
       "      <td>MIA</td>\n",
       "      <td>1</td>\n",
       "      <td>41</td>\n",
       "      <td>10</td>\n",
       "      <td>20</td>\n",
       "      <td>0.500</td>\n",
       "      <td>8</td>\n",
       "      <td>...</td>\n",
       "      <td>-0.7</td>\n",
       "      <td>6.0</td>\n",
       "      <td>0</td>\n",
       "      <td>212</td>\n",
       "      <td>39</td>\n",
       "      <td>36</td>\n",
       "      <td>31</td>\n",
       "      <td>11</td>\n",
       "      <td>4</td>\n",
       "      <td>183</td>\n",
       "    </tr>\n",
       "    <tr>\n",
       "      <th>1135</th>\n",
       "      <td>2024-04-27</td>\n",
       "      <td>26</td>\n",
       "      <td>1</td>\n",
       "      <td>MIA</td>\n",
       "      <td>1</td>\n",
       "      <td>39</td>\n",
       "      <td>6</td>\n",
       "      <td>16</td>\n",
       "      <td>0.375</td>\n",
       "      <td>4</td>\n",
       "      <td>...</td>\n",
       "      <td>6.5</td>\n",
       "      <td>22.0</td>\n",
       "      <td>1</td>\n",
       "      <td>188</td>\n",
       "      <td>39</td>\n",
       "      <td>33</td>\n",
       "      <td>28</td>\n",
       "      <td>17</td>\n",
       "      <td>4</td>\n",
       "      <td>186</td>\n",
       "    </tr>\n",
       "    <tr>\n",
       "      <th>1136</th>\n",
       "      <td>2024-04-29</td>\n",
       "      <td>26</td>\n",
       "      <td>1</td>\n",
       "      <td>MIA</td>\n",
       "      <td>1</td>\n",
       "      <td>37</td>\n",
       "      <td>5</td>\n",
       "      <td>14</td>\n",
       "      <td>0.357</td>\n",
       "      <td>3</td>\n",
       "      <td>...</td>\n",
       "      <td>5.9</td>\n",
       "      <td>12.0</td>\n",
       "      <td>1</td>\n",
       "      <td>190</td>\n",
       "      <td>36</td>\n",
       "      <td>31</td>\n",
       "      <td>25</td>\n",
       "      <td>16</td>\n",
       "      <td>4</td>\n",
       "      <td>188</td>\n",
       "    </tr>\n",
       "    <tr>\n",
       "      <th>1137</th>\n",
       "      <td>2024-05-01</td>\n",
       "      <td>26</td>\n",
       "      <td>0</td>\n",
       "      <td>MIA</td>\n",
       "      <td>1</td>\n",
       "      <td>32</td>\n",
       "      <td>4</td>\n",
       "      <td>9</td>\n",
       "      <td>0.444</td>\n",
       "      <td>2</td>\n",
       "      <td>...</td>\n",
       "      <td>3.7</td>\n",
       "      <td>35.0</td>\n",
       "      <td>1</td>\n",
       "      <td>202</td>\n",
       "      <td>31</td>\n",
       "      <td>28</td>\n",
       "      <td>19</td>\n",
       "      <td>15</td>\n",
       "      <td>5</td>\n",
       "      <td>190</td>\n",
       "    </tr>\n",
       "  </tbody>\n",
       "</table>\n",
       "<p>5 rows × 35 columns</p>\n",
       "</div>"
      ],
      "text/plain": [
       "            date  age  hoa  opp  gs  mp  fg  fga  fg_percent  twop  ...  bpm  \\\n",
       "1133  2024-04-21   26    0  MIA   1  41   7   18       0.389     6  ...  3.1   \n",
       "1134  2024-04-24   26    0  MIA   1  41  10   20       0.500     8  ... -0.7   \n",
       "1135  2024-04-27   26    1  MIA   1  39   6   16       0.375     4  ...  6.5   \n",
       "1136  2024-04-29   26    1  MIA   1  37   5   14       0.357     3  ...  5.9   \n",
       "1137  2024-05-01   26    0  MIA   1  32   4    9       0.444     2  ...  3.7   \n",
       "\n",
       "      plus_minus  result  total_score  p_r_a  p_r  p_a  a_r  month  days_since  \n",
       "1133         3.0       1          208     43   33   33   20      4         180  \n",
       "1134         6.0       0          212     39   36   31   11      4         183  \n",
       "1135        22.0       1          188     39   33   28   17      4         186  \n",
       "1136        12.0       1          190     36   31   25   16      4         188  \n",
       "1137        35.0       1          202     31   28   19   15      5         190  \n",
       "\n",
       "[5 rows x 35 columns]"
      ]
     },
     "execution_count": 93,
     "metadata": {},
     "output_type": "execute_result"
    }
   ],
   "source": [
    "data.head()\n",
    "player = \"Jayson Tatum\"\n",
    "dataPlayer = data[data['player'] == 'Jayson Tatum']\n",
    "dataPlayer = dataPlayer.drop(['opponents_points','teammates_points','teammates_rebounds', 'teammates_assists', 'teammates_pr', 'teammates_pa', 'teammates_ar', 'teammates_pra', \n",
    "                              'opponents_rebounds', 'opponents_assists', 'opponents_pr', 'opponents_pa', 'opponents_ar', 'opponents_pra',\n",
    "                             'id', 'player_additional', 'pos', 'player', 'team'],axis=1)\n",
    "dataPlayer = dataPlayer.dropna()\n",
    "dataPlayer.head()"
   ]
  },
  {
   "cell_type": "code",
   "execution_count": 94,
   "id": "c148cfea-8f13-4034-a0c0-bff247762c94",
   "metadata": {},
   "outputs": [],
   "source": [
    "encoder = OneHotEncoder()\n",
    "opp_encoded = encoder.fit_transform(dataPlayer[['opp']]) \n",
    "\n",
    "dataPlayer['date'] = pd.to_datetime(dataPlayer['date'])\n",
    "dataPlayer.set_index('date', inplace=True)\n",
    "dataPlayer.index = pd.DatetimeIndex(dataPlayer.index).to_period('D')\n",
    "series = dataPlayer['ast']"
   ]
  },
  {
   "cell_type": "code",
   "execution_count": 95,
   "id": "50403171-86ad-4fe0-8c5b-dbaedb8ac59d",
   "metadata": {},
   "outputs": [
    {
     "name": "stdout",
     "output_type": "stream",
     "text": [
      "ADF Statistic: -9.658486\n",
      "p-value: 0.000000\n"
     ]
    }
   ],
   "source": [
    "result = adfuller(series.dropna())\n",
    "print('ADF Statistic: %f' % result[0])\n",
    "print('p-value: %f' % result[1])"
   ]
  },
  {
   "cell_type": "code",
   "execution_count": 96,
   "id": "17c169ca-dffd-4e1c-9f1b-70ea7b3e8263",
   "metadata": {},
   "outputs": [
    {
     "data": {
      "image/png": "[encoded data removed]",
      "text/plain": [
       "<Figure size 1200x800 with 2 Axes>"
      ]
     },
     "metadata": {},
     "output_type": "display_data"
    }
   ],
   "source": [
    "lags = 15  # Number of lags to calculate (you can adjust based on your data size)\n",
    "pacf_values = pacf(series, nlags=lags)\n",
    "acf_values = acf(series, nlags=lags)\n",
    "\n",
    "# Plot PACF and ACF\n",
    "fig, (ax1, ax2) = plt.subplots(2, 1, figsize=(12, 8))\n",
    "plot_pacf(series, ax=ax1, lags=lags)  # PACF\n",
    "plot_acf(series, ax=ax2, lags=lags)  # ACF\n",
    "plt.show()"
   ]
  },
  {
   "cell_type": "code",
   "execution_count": 125,
   "id": "d1447be0-8d9a-412c-9b2d-16759c2cf793",
   "metadata": {},
   "outputs": [
    {
     "name": "stderr",
     "output_type": "stream",
     "text": [
      "/Library/Frameworks/Python.framework/Versions/3.12/lib/python3.12/site-packages/statsmodels/tsa/base/tsa_model.py:473: ValueWarning: A date index has been provided, but it is not monotonic and so will be ignored when e.g. forecasting.\n",
      "  self._init_dates(dates, freq)\n",
      "/Library/Frameworks/Python.framework/Versions/3.12/lib/python3.12/site-packages/statsmodels/tsa/base/tsa_model.py:473: ValueWarning: A date index has been provided, but it is not monotonic and so will be ignored when e.g. forecasting.\n",
      "  self._init_dates(dates, freq)\n",
      "/Library/Frameworks/Python.framework/Versions/3.12/lib/python3.12/site-packages/statsmodels/tsa/statespace/sarimax.py:966: UserWarning: Non-stationary starting autoregressive parameters found. Using zeros as starting parameters.\n",
      "  warn('Non-stationary starting autoregressive parameters'\n",
      "/Library/Frameworks/Python.framework/Versions/3.12/lib/python3.12/site-packages/statsmodels/tsa/statespace/sarimax.py:978: UserWarning: Non-invertible starting MA parameters found. Using zeros as starting parameters.\n",
      "  warn('Non-invertible starting MA parameters found.'\n",
      " This problem is unconstrained.\n"
     ]
    },
    {
     "name": "stdout",
     "output_type": "stream",
     "text": [
      "RUNNING THE L-BFGS-B CODE\n",
      "\n",
      "           * * *\n",
      "\n",
      "Machine precision = 2.220D-16\n",
      " N =           75     M =           10\n",
      "\n",
      "At X0         0 variables are exactly at the bounds\n",
      "\n",
      "At iterate    0    f=  2.87838D+00    |proj g|=  2.97080D+00\n",
      "\n",
      "At iterate    5    f=  1.93369D+00    |proj g|=  9.55500D-02\n",
      "\n",
      "At iterate   10    f=  1.86277D+00    |proj g|=  1.31944D-01\n",
      "\n",
      "At iterate   15    f=  1.83711D+00    |proj g|=  5.97579D-02\n",
      "\n",
      "At iterate   20    f=  1.80809D+00    |proj g|=  9.02839D-02\n",
      "\n",
      "At iterate   25    f=  1.79174D+00    |proj g|=  6.71895D-02\n",
      "\n",
      "At iterate   30    f=  1.77383D+00    |proj g|=  5.51342D-02\n",
      "\n",
      "At iterate   35    f=  1.74778D+00    |proj g|=  1.85621D-01\n",
      "\n",
      "At iterate   40    f=  1.73300D+00    |proj g|=  8.92661D-02\n",
      "\n",
      "At iterate   45    f=  1.70419D+00    |proj g|=  1.65487D-01\n",
      "\n",
      "At iterate   50    f=  1.68597D+00    |proj g|=  2.42341D-01\n",
      "\n",
      "           * * *\n",
      "\n",
      "Tit   = total number of iterations\n",
      "Tnf   = total number of function evaluations\n",
      "Tnint = total number of segments explored during Cauchy searches\n",
      "Skip  = number of BFGS updates skipped\n",
      "Nact  = number of active bounds at final generalized Cauchy point\n",
      "Projg = norm of the final projected gradient\n",
      "F     = final function value\n",
      "\n",
      "           * * *\n",
      "\n",
      "   N    Tit     Tnf  Tnint  Skip  Nact     Projg        F\n",
      "   75     50     53      1     0     0   2.423D-01   1.686D+00\n",
      "  F =   1.6859705661594704     \n",
      "\n",
      "STOP: TOTAL NO. of ITERATIONS REACHED LIMIT                 \n"
     ]
    },
    {
     "name": "stderr",
     "output_type": "stream",
     "text": [
      "/Library/Frameworks/Python.framework/Versions/3.12/lib/python3.12/site-packages/statsmodels/base/model.py:607: ConvergenceWarning: Maximum Likelihood optimization failed to converge. Check mle_retvals\n",
      "  warnings.warn(\"Maximum Likelihood optimization failed to \"\n"
     ]
    }
   ],
   "source": [
    "d = 0\n",
    "p = 1\n",
    "q = 0\n",
    "opp_encoded = encoder.fit_transform(dataPlayer[['opp']]).toarray()\n",
    "\n",
    "\n",
    "model = sm.tsa.SARIMAX(series, exog=opp_encoded, order=(25, 0, 20), seasonal_order=(0, 0, 0, 0))\n",
    "model_fit = model.fit()"
   ]
  },
  {
   "cell_type": "code",
   "execution_count": 126,
   "id": "2c7f4e00-7db6-465f-98a6-df69384d611c",
   "metadata": {},
   "outputs": [],
   "source": [
    "# Future opponent(s) data\n",
    "future_opponents = pd.DataFrame({'opp': ['CLE']})  # Replace 'Lakers' with the future opponent name(s)\n",
    "\n",
    "# Encode using the same encoder\n",
    "future_opp_encoded = encoder.transform(future_opponents[['opp']]).toarray()\n"
   ]
  },
  {
   "cell_type": "code",
   "execution_count": 128,
   "id": "b4760042-98e8-4322-8505-7014397de8ae",
   "metadata": {},
   "outputs": [
    {
     "name": "stdout",
     "output_type": "stream",
     "text": [
      "Predicted stat: 3.8776878268653645\n",
      "Confidence Interval:\n",
      "     lower ast  upper ast\n",
      "112   1.684854   6.070522\n"
     ]
    },
    {
     "name": "stderr",
     "output_type": "stream",
     "text": [
      "/Library/Frameworks/Python.framework/Versions/3.12/lib/python3.12/site-packages/statsmodels/tsa/base/tsa_model.py:837: ValueWarning: No supported index is available. Prediction results will be given with an integer index beginning at `start`.\n",
      "  return get_prediction_index(\n",
      "/Library/Frameworks/Python.framework/Versions/3.12/lib/python3.12/site-packages/statsmodels/tsa/base/tsa_model.py:837: FutureWarning: No supported index is available. In the next version, calling this method in a model without a supported index will result in an exception.\n",
      "  return get_prediction_index(\n"
     ]
    }
   ],
   "source": [
    "forecast = model_fit.get_forecast(steps=1, exog=future_opp_encoded)\n",
    "forecast_mean = forecast.predicted_mean\n",
    "forecast_conf_int = forecast.conf_int()\n",
    "\n",
    "print(\"Predicted stat:\", forecast_mean.iloc[0])\n",
    "print(\"Confidence Interval:\")\n",
    "print(forecast_conf_int)"
   ]
  },
  {
   "cell_type": "code",
   "execution_count": null,
   "id": "af4af2ed-a2de-4cd3-95c0-9ed6575314dd",
   "metadata": {},
   "outputs": [],
   "source": []
  }
 ],
 "metadata": {
  "kernelspec": {
   "display_name": "Python 3 (ipykernel)",
   "language": "python",
   "name": "python3"
  },
  "language_info": {
   "codemirror_mode": {
    "name": "ipython",
    "version": 3
   },
   "file_extension": ".py",
   "mimetype": "text/x-python",
   "name": "python",
   "nbconvert_exporter": "python",
   "pygments_lexer": "ipython3",
   "version": "3.12.4"
  }
 },
 "nbformat": 4,
 "nbformat_minor": 5
}
